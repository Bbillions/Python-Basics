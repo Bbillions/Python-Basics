{
 "cells": [
  {
   "cell_type": "code",
   "execution_count": 2,
   "metadata": {},
   "outputs": [
    {
     "name": "stdout",
     "output_type": "stream",
     "text": [
      "You have entered an odd number \n"
     ]
    }
   ],
   "source": [
    "def numbercheck():\n",
    "    Num = int(input('Put in your value: '))\n",
    "    if Num %2 == 0:\n",
    "        print('Your number is even!')\n",
    "    else:\n",
    "        print('You have entered an odd number ')\n",
    "numbercheck()"
   ]
  },
  {
   "cell_type": "code",
   "execution_count": 5,
   "metadata": {},
   "outputs": [
    {
     "name": "stdout",
     "output_type": "stream",
     "text": [
      "Done\n"
     ]
    },
    {
     "data": {
      "text/plain": [
       "[]"
      ]
     },
     "execution_count": 5,
     "metadata": {},
     "output_type": "execute_result"
    }
   ],
   "source": [
    "listsq = []\n",
    "while True:\n",
    "    putVAL = (\"Enter a number or 'none number value' to cancel\")\n",
    "    try:\n",
    "        putVAL = int(putVAL)\n",
    "        listsq.append(putVAL)\n",
    "    except:\n",
    "        print('Done')\n",
    "        break\n",
    "\n",
    "sqlst = []\n",
    "for i in listsq:\n",
    "    sqlst.append(i**2)\n",
    "\n",
    "sqlst"
   ]
  },
  {
   "cell_type": "code",
   "execution_count": 8,
   "metadata": {},
   "outputs": [
    {
     "name": "stdout",
     "output_type": "stream",
     "text": [
      "[4, 9, 25]\n"
     ]
    }
   ],
   "source": [
    "def SQR(num):\n",
    "    Sqrnumber = []  \n",
    "    for x in num:\n",
    "        Sqrnumber.append(x**2)\n",
    "    return Sqrnumber\n",
    "num = [2,3,5]\n",
    "print(SQR(num))"
   ]
  },
  {
   "cell_type": "code",
   "execution_count": 10,
   "metadata": {},
   "outputs": [
    {
     "name": "stdout",
     "output_type": "stream",
     "text": [
      "24\n"
     ]
    }
   ],
   "source": [
    "X = [4,6,8,24,12,2]\n",
    "maximum = max(X)\n",
    "print(maximum)"
   ]
  },
  {
   "cell_type": "code",
   "execution_count": 13,
   "metadata": {},
   "outputs": [
    {
     "name": "stdout",
     "output_type": "stream",
     "text": [
      "1\n",
      "2\n",
      "3\n",
      "4\n",
      "5\n",
      "6\n"
     ]
    }
   ],
   "source": [
    "def printing():\n",
    "    printer = [1,2,3,4,5,6]\n",
    "    for i in printer:\n",
    "        print(i)\n",
    "printing()"
   ]
  },
  {
   "cell_type": "code",
   "execution_count": 16,
   "metadata": {},
   "outputs": [
    {
     "name": "stdout",
     "output_type": "stream",
     "text": [
      "1\n",
      "2\n",
      "3\n",
      "4\n",
      "5\n",
      "6\n",
      "7\n",
      "8\n",
      "9\n",
      "10\n"
     ]
    }
   ],
   "source": [
    "numten = range(1,11)\n",
    "for i in numten:\n",
    "    print(i)"
   ]
  },
  {
   "cell_type": "code",
   "execution_count": 17,
   "metadata": {},
   "outputs": [
    {
     "name": "stdout",
     "output_type": "stream",
     "text": [
      "P\n",
      "i\n",
      "n\n",
      "e\n",
      "a\n",
      "p\n",
      "p\n",
      "l\n",
      "e\n"
     ]
    }
   ],
   "source": [
    "string = 'Pineapple'\n",
    "for i in string:\n",
    "    print(i)"
   ]
  },
  {
   "cell_type": "code",
   "execution_count": 18,
   "metadata": {},
   "outputs": [
    {
     "name": "stdout",
     "output_type": "stream",
     "text": [
      "15\n"
     ]
    }
   ],
   "source": [
    "def summing(num):\n",
    "    Total = 0\n",
    "    for x in num:\n",
    "        Total += x \n",
    "    return Total\n",
    "num = [1,2,3,4,5]\n",
    "print(summing(num))"
   ]
  },
  {
   "cell_type": "code",
   "execution_count": 19,
   "metadata": {},
   "outputs": [
    {
     "name": "stdout",
     "output_type": "stream",
     "text": [
      "15\n"
     ]
    }
   ],
   "source": [
    "num = [1,2,3,4,5]\n",
    "Total = 0\n",
    "for x in num:\n",
    "        Total += x \n",
    "print(Total)\n"
   ]
  },
  {
   "cell_type": "code",
   "execution_count": 24,
   "metadata": {},
   "outputs": [
    {
     "name": "stdout",
     "output_type": "stream",
     "text": [
      "2\n",
      "4\n",
      "6\n",
      "8\n",
      "10\n",
      "12\n",
      "14\n",
      "16\n",
      "18\n",
      "20\n"
     ]
    }
   ],
   "source": [
    "for i in range(2,21,2):\n",
    "    print(i)\n"
   ]
  },
  {
   "cell_type": "code",
   "execution_count": 25,
   "metadata": {},
   "outputs": [
    {
     "name": "stdout",
     "output_type": "stream",
     "text": [
      "1\n",
      "4\n",
      "9\n",
      "16\n",
      "25\n",
      "36\n",
      "49\n",
      "64\n",
      "81\n",
      "100\n"
     ]
    }
   ],
   "source": [
    "for i in range(1,11):\n",
    "    print(i**2)"
   ]
  },
  {
   "cell_type": "code",
   "execution_count": 27,
   "metadata": {},
   "outputs": [
    {
     "name": "stdout",
     "output_type": "stream",
     "text": [
      "Alade 10\n"
     ]
    }
   ],
   "source": [
    "def Nameage(name,age):\n",
    "    print(name + str(age))\n",
    "Nameage('Alade ', 10)"
   ]
  },
  {
   "cell_type": "code",
   "execution_count": 29,
   "metadata": {},
   "outputs": [
    {
     "name": "stdout",
     "output_type": "stream",
     "text": [
      "Welcome the billionaire, now put in your password\n",
      "You have the access\n"
     ]
    }
   ],
   "source": [
    "username = str(input('Enter your username: '))\n",
    "if username == 'BBillions':\n",
    "    print('Welcome the billionaire, now put in your password')\n",
    "password = int(input('Enter your four digits password: '))\n",
    "if password == 2024:\n",
    "    print('You have the access')"
   ]
  },
  {
   "cell_type": "code",
   "execution_count": 30,
   "metadata": {},
   "outputs": [
    {
     "name": "stdout",
     "output_type": "stream",
     "text": [
      "7\n"
     ]
    }
   ],
   "source": [
    "def twonum(x,y,operator):\n",
    "    if operator == '+':\n",
    "     return x + y\n",
    "    elif operator == '-':\n",
    "     return x - y      \n",
    "    elif operator == '*':\n",
    "        return x*y\n",
    "    else:\n",
    "        return \"invalid operator\"\n",
    "print(twonum(3,4,'+'))"
   ]
  },
  {
   "cell_type": "code",
   "execution_count": 4,
   "metadata": {},
   "outputs": [],
   "source": [
    "Rate = int(input('Enter your value in here: '))\n",
    "if Rate > 0:\n",
    "    print('Gege, positive number')\n",
    "elif Rate < 0:\n",
    "    print('The number you entered is negative')\n",
    "else:\n",
    "    print('You entered zero oooo')"
   ]
  },
  {
   "cell_type": "code",
   "execution_count": 5,
   "metadata": {},
   "outputs": [
    {
     "name": "stdout",
     "output_type": "stream",
     "text": [
      "The number you entered is negative\n"
     ]
    }
   ],
   "source": [
    "Rate = int(input('Enter your value in here: '))\n",
    "if Rate > 0:\n",
    "    print('Gege, positive number')\n",
    "elif Rate == 0:\n",
    "    print('You entered zero oooo')\n",
    "else:\n",
    "    print('The number you entered is negative')"
   ]
  },
  {
   "cell_type": "code",
   "execution_count": 7,
   "metadata": {},
   "outputs": [
    {
     "name": "stdout",
     "output_type": "stream",
     "text": [
      "You have entered an odd number \n"
     ]
    }
   ],
   "source": [
    "Num = int(input('Put in your value: '))\n",
    "if Num %2 == 0:\n",
    "    print('Your number is even!')\n",
    "elif Num %2 != 0:\n",
    "    print('You have entered an odd number ')"
   ]
  },
  {
   "cell_type": "code",
   "execution_count": 8,
   "metadata": {},
   "outputs": [
    {
     "name": "stdout",
     "output_type": "stream",
     "text": [
      "You have the access\n"
     ]
    }
   ],
   "source": [
    "username = str(input('Enter your username: '))\n",
    "if username == 'BBillions':\n",
    "    print('Welcome the billionaire, now put in your password')\n",
    "password = int(input('Enter your four digits password: '))\n",
    "if password == 2024:\n",
    "    print('You have the access')"
   ]
  },
  {
   "cell_type": "code",
   "execution_count": 10,
   "metadata": {},
   "outputs": [
    {
     "name": "stdout",
     "output_type": "stream",
     "text": [
      "You have the access\n"
     ]
    }
   ],
   "source": [
    "username = str(input('Enter your username: '))\n",
    "password = int(input('Enter your four digits password: '))\n",
    "if username == 'BBillions' and password == 2024:\n",
    "    print('You have the access')"
   ]
  }
 ],
 "metadata": {
  "kernelspec": {
   "display_name": "Python 3",
   "language": "python",
   "name": "python3"
  },
  "language_info": {
   "codemirror_mode": {
    "name": "ipython",
    "version": 3
   },
   "file_extension": ".py",
   "mimetype": "text/x-python",
   "name": "python",
   "nbconvert_exporter": "python",
   "pygments_lexer": "ipython3",
   "version": "3.12.3"
  }
 },
 "nbformat": 4,
 "nbformat_minor": 2
}
