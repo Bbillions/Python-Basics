{
 "cells": [
  {
   "cell_type": "code",
   "execution_count": 3,
   "metadata": {},
   "outputs": [
    {
     "name": "stdout",
     "output_type": "stream",
     "text": [
      "5\n",
      "10\n"
     ]
    }
   ],
   "source": [
    "class Myclass():\n",
    "    x = 5\n",
    "    y = 10\n",
    "p1 = Myclass()\n",
    "print(p1.x)\n",
    "print(p1.y)"
   ]
  },
  {
   "cell_type": "code",
   "execution_count": 4,
   "metadata": {},
   "outputs": [
    {
     "name": "stdout",
     "output_type": "stream",
     "text": [
      "Alade\n",
      "Christianah\n"
     ]
    }
   ],
   "source": [
    "\n",
    "# creating a class\n",
    "class Bukola():\n",
    "    w = 'Alade'\n",
    "    y = 'Christianah'\n",
    "Name = Bukola()\n",
    "print(Name.w)\n",
    "print(Name.y)"
   ]
  },
  {
   "cell_type": "code",
   "execution_count": 5,
   "metadata": {},
   "outputs": [
    {
     "name": "stdout",
     "output_type": "stream",
     "text": [
      "My name is uncle sam, I am a male and 33 years old\n",
      "My name is miss Gloria, I am a female and 27 years old\n"
     ]
    }
   ],
   "source": [
    "# creating class with function\n",
    "class Person():\n",
    "    def __init__(self,name,gender,age):\n",
    "        self.name = name\n",
    "        self.gender = gender\n",
    "        self.age = age\n",
    "    def __str__(self) -> str:\n",
    "     return f'My name is {self.name}, I am a {self.gender} and {self.age} years old'\n",
    "p2 = Person('uncle sam', 'male', 33)\n",
    "p3 = Person('miss Gloria', 'female',27)\n",
    "print(p2)\n",
    "print(p3)"
   ]
  },
  {
   "cell_type": "code",
   "execution_count": 1,
   "metadata": {},
   "outputs": [
    {
     "name": "stdout",
     "output_type": "stream",
     "text": [
      "50000\n",
      "Adams E7876 50000 ACCOUNTING\n",
      "None\n",
      "None\n"
     ]
    }
   ],
   "source": [
    "class Employ():\n",
    "    def __init__(self,Name,ID,Salary,Department):\n",
    "        self.Name = Name\n",
    "        self.ID = ID\n",
    "        self.Salary = Salary\n",
    "        self.Department = Department\n",
    "\n",
    "    def Outputdetails(self):\n",
    "        print(F'{self.Name} {self.ID} {self.Salary} {self.Department}')\n",
    "        \n",
    "\n",
    "    def updatedept(self,new_department):\n",
    "        self.Department = new_department\n",
    "\n",
    "    def calculate_emp_salary(self,hours_worked):\n",
    "        hours_worked = int(input(\"Enter your hours worked: \"))\n",
    "        if hours_worked > 50:\n",
    "            overtime = hours_worked - 50\n",
    "            overtime_amount = overtime * (self.Salary/50)\n",
    "            Total_salary = self.Salary + overtime_amount\n",
    "        else:\n",
    "            Total_salary = self.Salary\n",
    "            print(Total_salary)\n",
    "\n",
    "        \n",
    "data1 = Employ(\"Adams\",'E7876',50000,'ACCOUNTING')\n",
    "print(data1.Salary)\n",
    "# print(data1.updatedept('OPERATIONS'))\n",
    "print(data1.Outputdetails())\n",
    "print(data1.calculate_emp_salary(70))\n",
    "\n"
   ]
  },
  {
   "cell_type": "code",
   "execution_count": 3,
   "metadata": {},
   "outputs": [
    {
     "name": "stdout",
     "output_type": "stream",
     "text": [
      "<class '__main__.Employ'>\n"
     ]
    }
   ],
   "source": [
    "print(type(data1))"
   ]
  },
  {
   "cell_type": "code",
   "execution_count": 6,
   "metadata": {},
   "outputs": [
    {
     "name": "stdout",
     "output_type": "stream",
     "text": [
      "Smith\n",
      "OPERATIONS\n",
      "Technical\n",
      "Technical\n",
      "90200.0\n"
     ]
    }
   ],
   "source": [
    "class Employee():\n",
    "    def __init__(self,Name, ID, Salary, Department):\n",
    "        self.Name = Name\n",
    "        self.ID = ID\n",
    "        self.Salary = Salary\n",
    "        self.Department = Department\n",
    "\n",
    "    def assign_department(self,new_department):\n",
    "        self.Department = new_department\n",
    "        return self.Department\n",
    "    \n",
    "    def calculate_emp_salary(self, hours_worked):\n",
    "        overtime = hours_worked - 50\n",
    "        overtime_amount = overtime*(self.Salary/50)\n",
    "\n",
    "        return overtime_amount+self.Salary\n",
    "    \n",
    "    \n",
    "    \n",
    "    \n",
    "emp1 =  Employee('Smith','E7698', 55000,'OPERATIONS')\n",
    "emp2 = Employee(\"Adams\",'E7876',50000,'ACCOUNTING')\n",
    "emp3 = Employee(\"Jones\",'E7499',45000,'RESEARCH')\n",
    "emp4 = Employee(\"Martin\",'E7900',50000,'SALES')\n",
    "\n",
    "h_w = [55,63,78,60]\n",
    "emp_list = [emp1,emp2,emp3,emp4]\n",
    "\n",
    "print(emp1.Name)\n",
    "print(emp1.Department)\n",
    "print(emp1.assign_department('Technical'))\n",
    "print(emp1.Department)\n",
    "print(emp1.calculate_emp_salary(82))\n",
    "\n",
    "\n",
    "\n"
   ]
  },
  {
   "cell_type": "code",
   "execution_count": 17,
   "metadata": {},
   "outputs": [
    {
     "name": "stdout",
     "output_type": "stream",
     "text": [
      "The mean  of 253700.0 = 63425.0\n"
     ]
    }
   ],
   "source": [
    "\n",
    "# calculate with different overtime for them\n",
    "def calculate_all_emp_salary2(list_of_emp_data,hours_worked):\n",
    "    \n",
    "    all_salary = 0\n",
    "\n",
    "    for eachemp in list_of_emp_data:\n",
    "        pos = list_of_emp_data.index(eachemp)\n",
    "        # print(eachemp.Name)\n",
    "        # print(h_w[pos])\n",
    "\n",
    "        all_salary += eachemp.calculate_emp_salary(hours_worked[pos])\n",
    "\n",
    "    print(f'The mean  of {all_salary} = {all_salary/len(list_of_emp_data)}')\n",
    "\n",
    "calculate_all_emp_salary2(emp_list,h_w)"
   ]
  },
  {
   "cell_type": "code",
   "execution_count": 18,
   "metadata": {},
   "outputs": [
    {
     "name": "stdout",
     "output_type": "stream",
     "text": [
      "220000.0\n"
     ]
    }
   ],
   "source": [
    "def calculate_all_emp_salary(list_of_emp_data):\n",
    "    \n",
    "    all_salary = 0\n",
    "\n",
    "    for eachemp in list_of_emp_data:\n",
    "        all_salary += eachemp.calculate_emp_salary(55)\n",
    "\n",
    "    print(all_salary)\n",
    "\n",
    "calculate_all_emp_salary(emp_list)"
   ]
  }
 ],
 "metadata": {
  "kernelspec": {
   "display_name": "Python 3",
   "language": "python",
   "name": "python3"
  },
  "language_info": {
   "codemirror_mode": {
    "name": "ipython",
    "version": 3
   },
   "file_extension": ".py",
   "mimetype": "text/x-python",
   "name": "python",
   "nbconvert_exporter": "python",
   "pygments_lexer": "ipython3",
   "version": "3.12.3"
  }
 },
 "nbformat": 4,
 "nbformat_minor": 2
}
